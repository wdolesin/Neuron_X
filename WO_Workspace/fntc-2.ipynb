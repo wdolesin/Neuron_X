{
 "cells": [
  {
   "cell_type": "code",
   "execution_count": 87,
   "metadata": {
    "id": "5n3B_s5GSo7a"
   },
   "outputs": [],
   "source": [
    "import pandas as pd\n",
    "import numpy as np\n",
    "from pathlib import Path\n",
    "import holoviews as hv\n",
    "import matplotlib.pyplot as plt\n",
    "from sklearn import svm\n",
    "from sklearn.preprocessing import StandardScaler\n",
    "from pandas.tseries.offsets import DateOffset\n",
    "from sklearn.metrics import classification_report\n",
    "import tensorflow as tf\n",
    "from tensorflow.keras.layers import Dense\n",
    "from tensorflow.keras.models import Sequential\n",
    "from sklearn.model_selection import train_test_split\n",
    "from sklearn.preprocessing import StandardScaler,OneHotEncoder"
   ]
  },
  {
   "cell_type": "code",
   "execution_count": 88,
   "metadata": {
    "colab": {
     "base_uri": "https://localhost:8080/",
     "height": 443
    },
    "id": "tarcdgDOSqy4",
    "outputId": "8f5ebf27-8a46-499c-a637-4746c2dfa3e7"
   },
   "outputs": [
    {
     "data": {
      "text/html": [
       "<div>\n",
       "<style scoped>\n",
       "    .dataframe tbody tr th:only-of-type {\n",
       "        vertical-align: middle;\n",
       "    }\n",
       "\n",
       "    .dataframe tbody tr th {\n",
       "        vertical-align: top;\n",
       "    }\n",
       "\n",
       "    .dataframe thead th {\n",
       "        text-align: right;\n",
       "    }\n",
       "</style>\n",
       "<table border=\"1\" class=\"dataframe\">\n",
       "  <thead>\n",
       "    <tr style=\"text-align: right;\">\n",
       "      <th></th>\n",
       "      <th>open</th>\n",
       "      <th>high</th>\n",
       "      <th>low</th>\n",
       "      <th>close</th>\n",
       "      <th>volume</th>\n",
       "    </tr>\n",
       "    <tr>\n",
       "      <th>date</th>\n",
       "      <th></th>\n",
       "      <th></th>\n",
       "      <th></th>\n",
       "      <th></th>\n",
       "      <th></th>\n",
       "    </tr>\n",
       "  </thead>\n",
       "  <tbody>\n",
       "    <tr>\n",
       "      <th>2018-10-19 09:30:00</th>\n",
       "      <td>16.90</td>\n",
       "      <td>17.18</td>\n",
       "      <td>16.90</td>\n",
       "      <td>17.095</td>\n",
       "      <td>11522</td>\n",
       "    </tr>\n",
       "    <tr>\n",
       "      <th>2018-10-19 09:45:00</th>\n",
       "      <td>17.11</td>\n",
       "      <td>17.44</td>\n",
       "      <td>17.11</td>\n",
       "      <td>17.400</td>\n",
       "      <td>70593</td>\n",
       "    </tr>\n",
       "    <tr>\n",
       "      <th>2018-10-19 10:00:00</th>\n",
       "      <td>17.40</td>\n",
       "      <td>17.40</td>\n",
       "      <td>17.25</td>\n",
       "      <td>17.280</td>\n",
       "      <td>38885</td>\n",
       "    </tr>\n",
       "    <tr>\n",
       "      <th>2018-10-19 10:15:00</th>\n",
       "      <td>17.27</td>\n",
       "      <td>17.27</td>\n",
       "      <td>17.18</td>\n",
       "      <td>17.200</td>\n",
       "      <td>37046</td>\n",
       "    </tr>\n",
       "    <tr>\n",
       "      <th>2018-10-19 10:30:00</th>\n",
       "      <td>17.21</td>\n",
       "      <td>17.37</td>\n",
       "      <td>17.19</td>\n",
       "      <td>17.200</td>\n",
       "      <td>46874</td>\n",
       "    </tr>\n",
       "  </tbody>\n",
       "</table>\n",
       "</div>"
      ],
      "text/plain": [
       "                      open   high    low   close  volume\n",
       "date                                                    \n",
       "2018-10-19 09:30:00  16.90  17.18  16.90  17.095   11522\n",
       "2018-10-19 09:45:00  17.11  17.44  17.11  17.400   70593\n",
       "2018-10-19 10:00:00  17.40  17.40  17.25  17.280   38885\n",
       "2018-10-19 10:15:00  17.27  17.27  17.18  17.200   37046\n",
       "2018-10-19 10:30:00  17.21  17.37  17.19  17.200   46874"
      ]
     },
     "execution_count": 88,
     "metadata": {},
     "output_type": "execute_result"
    }
   ],
   "source": [
    "# Import the FNTC dataset into a Pandas Dataframe\n",
    "fntc_df = pd.read_csv(\n",
    "    Path(\"./Resources/fntc.csv\"), \n",
    "    index_col='date', \n",
    "    infer_datetime_format=True, \n",
    "    parse_dates=True\n",
    ")\n",
    "\n",
    "# Review the DataFrame\n",
    "fntc_df.head()"
   ]
  },
  {
   "cell_type": "code",
   "execution_count": 89,
   "metadata": {
    "id": "RHPosvI6TdRk"
   },
   "outputs": [
    {
     "data": {
      "text/html": [
       "<div>\n",
       "<style scoped>\n",
       "    .dataframe tbody tr th:only-of-type {\n",
       "        vertical-align: middle;\n",
       "    }\n",
       "\n",
       "    .dataframe tbody tr th {\n",
       "        vertical-align: top;\n",
       "    }\n",
       "\n",
       "    .dataframe thead th {\n",
       "        text-align: right;\n",
       "    }\n",
       "</style>\n",
       "<table border=\"1\" class=\"dataframe\">\n",
       "  <thead>\n",
       "    <tr style=\"text-align: right;\">\n",
       "      <th></th>\n",
       "      <th>close</th>\n",
       "      <th>Actual Returns</th>\n",
       "    </tr>\n",
       "    <tr>\n",
       "      <th>date</th>\n",
       "      <th></th>\n",
       "      <th></th>\n",
       "    </tr>\n",
       "  </thead>\n",
       "  <tbody>\n",
       "    <tr>\n",
       "      <th>2018-10-19 09:45:00</th>\n",
       "      <td>17.40</td>\n",
       "      <td>0.017841</td>\n",
       "    </tr>\n",
       "    <tr>\n",
       "      <th>2018-10-19 10:00:00</th>\n",
       "      <td>17.28</td>\n",
       "      <td>-0.006897</td>\n",
       "    </tr>\n",
       "    <tr>\n",
       "      <th>2018-10-19 10:15:00</th>\n",
       "      <td>17.20</td>\n",
       "      <td>-0.004630</td>\n",
       "    </tr>\n",
       "    <tr>\n",
       "      <th>2018-10-19 10:30:00</th>\n",
       "      <td>17.20</td>\n",
       "      <td>0.000000</td>\n",
       "    </tr>\n",
       "    <tr>\n",
       "      <th>2018-10-19 10:45:00</th>\n",
       "      <td>17.12</td>\n",
       "      <td>-0.004651</td>\n",
       "    </tr>\n",
       "  </tbody>\n",
       "</table>\n",
       "</div>"
      ],
      "text/plain": [
       "                     close  Actual Returns\n",
       "date                                      \n",
       "2018-10-19 09:45:00  17.40        0.017841\n",
       "2018-10-19 10:00:00  17.28       -0.006897\n",
       "2018-10-19 10:15:00  17.20       -0.004630\n",
       "2018-10-19 10:30:00  17.20        0.000000\n",
       "2018-10-19 10:45:00  17.12       -0.004651"
      ]
     },
     "metadata": {},
     "output_type": "display_data"
    },
    {
     "data": {
      "text/html": [
       "<div>\n",
       "<style scoped>\n",
       "    .dataframe tbody tr th:only-of-type {\n",
       "        vertical-align: middle;\n",
       "    }\n",
       "\n",
       "    .dataframe tbody tr th {\n",
       "        vertical-align: top;\n",
       "    }\n",
       "\n",
       "    .dataframe thead th {\n",
       "        text-align: right;\n",
       "    }\n",
       "</style>\n",
       "<table border=\"1\" class=\"dataframe\">\n",
       "  <thead>\n",
       "    <tr style=\"text-align: right;\">\n",
       "      <th></th>\n",
       "      <th>close</th>\n",
       "      <th>Actual Returns</th>\n",
       "    </tr>\n",
       "    <tr>\n",
       "      <th>date</th>\n",
       "      <th></th>\n",
       "      <th></th>\n",
       "    </tr>\n",
       "  </thead>\n",
       "  <tbody>\n",
       "    <tr>\n",
       "      <th>2020-09-04 14:45:00</th>\n",
       "      <td>6.250</td>\n",
       "      <td>0.003210</td>\n",
       "    </tr>\n",
       "    <tr>\n",
       "      <th>2020-09-04 15:00:00</th>\n",
       "      <td>6.250</td>\n",
       "      <td>0.000000</td>\n",
       "    </tr>\n",
       "    <tr>\n",
       "      <th>2020-09-04 15:15:00</th>\n",
       "      <td>6.275</td>\n",
       "      <td>0.004000</td>\n",
       "    </tr>\n",
       "    <tr>\n",
       "      <th>2020-09-04 15:30:00</th>\n",
       "      <td>6.255</td>\n",
       "      <td>-0.003187</td>\n",
       "    </tr>\n",
       "    <tr>\n",
       "      <th>2020-09-04 15:45:00</th>\n",
       "      <td>6.250</td>\n",
       "      <td>-0.000799</td>\n",
       "    </tr>\n",
       "  </tbody>\n",
       "</table>\n",
       "</div>"
      ],
      "text/plain": [
       "                     close  Actual Returns\n",
       "date                                      \n",
       "2020-09-04 14:45:00  6.250        0.003210\n",
       "2020-09-04 15:00:00  6.250        0.000000\n",
       "2020-09-04 15:15:00  6.275        0.004000\n",
       "2020-09-04 15:30:00  6.255       -0.003187\n",
       "2020-09-04 15:45:00  6.250       -0.000799"
      ]
     },
     "metadata": {},
     "output_type": "display_data"
    }
   ],
   "source": [
    "# Filter the date index and close columns\n",
    "signals_df = fntc_df.loc[:, [\"close\"]]\n",
    "\n",
    "# Use the pct_change function to generate  returns from close prices\n",
    "signals_df[\"Actual Returns\"] = signals_df[\"close\"].pct_change()\n",
    "\n",
    "# Drop all NaN values from the DataFrame\n",
    "signals_df = signals_df.dropna()\n",
    "\n",
    "# Review the DataFrame\n",
    "display(signals_df.head())\n",
    "display(signals_df.tail())"
   ]
  },
  {
   "cell_type": "code",
   "execution_count": 90,
   "metadata": {},
   "outputs": [
    {
     "data": {
      "text/html": [
       "<div>\n",
       "<style scoped>\n",
       "    .dataframe tbody tr th:only-of-type {\n",
       "        vertical-align: middle;\n",
       "    }\n",
       "\n",
       "    .dataframe tbody tr th {\n",
       "        vertical-align: top;\n",
       "    }\n",
       "\n",
       "    .dataframe thead th {\n",
       "        text-align: right;\n",
       "    }\n",
       "</style>\n",
       "<table border=\"1\" class=\"dataframe\">\n",
       "  <thead>\n",
       "    <tr style=\"text-align: right;\">\n",
       "      <th></th>\n",
       "      <th>close</th>\n",
       "      <th>Actual Returns</th>\n",
       "      <th>SMA_Fast</th>\n",
       "      <th>SMA_Slow</th>\n",
       "    </tr>\n",
       "    <tr>\n",
       "      <th>date</th>\n",
       "      <th></th>\n",
       "      <th></th>\n",
       "      <th></th>\n",
       "      <th></th>\n",
       "    </tr>\n",
       "  </thead>\n",
       "  <tbody>\n",
       "    <tr>\n",
       "      <th>2018-10-24 12:30:00</th>\n",
       "      <td>15.73</td>\n",
       "      <td>-0.002536</td>\n",
       "      <td>15.740000</td>\n",
       "      <td>16.412389</td>\n",
       "    </tr>\n",
       "    <tr>\n",
       "      <th>2018-10-24 12:45:00</th>\n",
       "      <td>15.77</td>\n",
       "      <td>0.002543</td>\n",
       "      <td>15.747143</td>\n",
       "      <td>16.394278</td>\n",
       "    </tr>\n",
       "    <tr>\n",
       "      <th>2018-10-24 13:00:00</th>\n",
       "      <td>15.75</td>\n",
       "      <td>-0.001268</td>\n",
       "      <td>15.757143</td>\n",
       "      <td>16.377278</td>\n",
       "    </tr>\n",
       "    <tr>\n",
       "      <th>2018-10-24 13:15:00</th>\n",
       "      <td>15.73</td>\n",
       "      <td>-0.001270</td>\n",
       "      <td>15.762143</td>\n",
       "      <td>16.360944</td>\n",
       "    </tr>\n",
       "    <tr>\n",
       "      <th>2018-10-24 13:30:00</th>\n",
       "      <td>15.72</td>\n",
       "      <td>-0.000636</td>\n",
       "      <td>15.751429</td>\n",
       "      <td>16.344500</td>\n",
       "    </tr>\n",
       "  </tbody>\n",
       "</table>\n",
       "</div>"
      ],
      "text/plain": [
       "                     close  Actual Returns   SMA_Fast   SMA_Slow\n",
       "date                                                            \n",
       "2018-10-24 12:30:00  15.73       -0.002536  15.740000  16.412389\n",
       "2018-10-24 12:45:00  15.77        0.002543  15.747143  16.394278\n",
       "2018-10-24 13:00:00  15.75       -0.001268  15.757143  16.377278\n",
       "2018-10-24 13:15:00  15.73       -0.001270  15.762143  16.360944\n",
       "2018-10-24 13:30:00  15.72       -0.000636  15.751429  16.344500"
      ]
     },
     "metadata": {},
     "output_type": "display_data"
    },
    {
     "data": {
      "text/html": [
       "<div>\n",
       "<style scoped>\n",
       "    .dataframe tbody tr th:only-of-type {\n",
       "        vertical-align: middle;\n",
       "    }\n",
       "\n",
       "    .dataframe tbody tr th {\n",
       "        vertical-align: top;\n",
       "    }\n",
       "\n",
       "    .dataframe thead th {\n",
       "        text-align: right;\n",
       "    }\n",
       "</style>\n",
       "<table border=\"1\" class=\"dataframe\">\n",
       "  <thead>\n",
       "    <tr style=\"text-align: right;\">\n",
       "      <th></th>\n",
       "      <th>close</th>\n",
       "      <th>Actual Returns</th>\n",
       "      <th>SMA_Fast</th>\n",
       "      <th>SMA_Slow</th>\n",
       "    </tr>\n",
       "    <tr>\n",
       "      <th>date</th>\n",
       "      <th></th>\n",
       "      <th></th>\n",
       "      <th></th>\n",
       "      <th></th>\n",
       "    </tr>\n",
       "  </thead>\n",
       "  <tbody>\n",
       "    <tr>\n",
       "      <th>2020-09-04 14:45:00</th>\n",
       "      <td>6.250</td>\n",
       "      <td>0.003210</td>\n",
       "      <td>6.222857</td>\n",
       "      <td>6.262833</td>\n",
       "    </tr>\n",
       "    <tr>\n",
       "      <th>2020-09-04 15:00:00</th>\n",
       "      <td>6.250</td>\n",
       "      <td>0.000000</td>\n",
       "      <td>6.228571</td>\n",
       "      <td>6.261889</td>\n",
       "    </tr>\n",
       "    <tr>\n",
       "      <th>2020-09-04 15:15:00</th>\n",
       "      <td>6.275</td>\n",
       "      <td>0.004000</td>\n",
       "      <td>6.240000</td>\n",
       "      <td>6.261167</td>\n",
       "    </tr>\n",
       "    <tr>\n",
       "      <th>2020-09-04 15:30:00</th>\n",
       "      <td>6.255</td>\n",
       "      <td>-0.003187</td>\n",
       "      <td>6.242143</td>\n",
       "      <td>6.260444</td>\n",
       "    </tr>\n",
       "    <tr>\n",
       "      <th>2020-09-04 15:45:00</th>\n",
       "      <td>6.250</td>\n",
       "      <td>-0.000799</td>\n",
       "      <td>6.247857</td>\n",
       "      <td>6.259556</td>\n",
       "    </tr>\n",
       "  </tbody>\n",
       "</table>\n",
       "</div>"
      ],
      "text/plain": [
       "                     close  Actual Returns  SMA_Fast  SMA_Slow\n",
       "date                                                          \n",
       "2020-09-04 14:45:00  6.250        0.003210  6.222857  6.262833\n",
       "2020-09-04 15:00:00  6.250        0.000000  6.228571  6.261889\n",
       "2020-09-04 15:15:00  6.275        0.004000  6.240000  6.261167\n",
       "2020-09-04 15:30:00  6.255       -0.003187  6.242143  6.260444\n",
       "2020-09-04 15:45:00  6.250       -0.000799  6.247857  6.259556"
      ]
     },
     "metadata": {},
     "output_type": "display_data"
    }
   ],
   "source": [
    "# Set the short window and long window\n",
    "short_window = 7\n",
    "long_window = 90\n",
    "\n",
    "# Generate the fast and slow simple moving averages (4 and 100 days, respectively)\n",
    "signals_df['SMA_Fast'] = signals_df['close'].rolling(window=short_window).mean()\n",
    "signals_df['SMA_Slow'] = signals_df['close'].rolling(window=long_window).mean()\n",
    "\n",
    "signals_df = signals_df.dropna()\n",
    "\n",
    "# Review the DataFrame\n",
    "display(signals_df.head())\n",
    "display(signals_df.tail())"
   ]
  },
  {
   "cell_type": "code",
   "execution_count": 91,
   "metadata": {},
   "outputs": [
    {
     "data": {
      "text/html": [
       "<div>\n",
       "<style scoped>\n",
       "    .dataframe tbody tr th:only-of-type {\n",
       "        vertical-align: middle;\n",
       "    }\n",
       "\n",
       "    .dataframe tbody tr th {\n",
       "        vertical-align: top;\n",
       "    }\n",
       "\n",
       "    .dataframe thead th {\n",
       "        text-align: right;\n",
       "    }\n",
       "</style>\n",
       "<table border=\"1\" class=\"dataframe\">\n",
       "  <thead>\n",
       "    <tr style=\"text-align: right;\">\n",
       "      <th></th>\n",
       "      <th>close</th>\n",
       "      <th>Actual Returns</th>\n",
       "      <th>SMA_Fast</th>\n",
       "      <th>SMA_Slow</th>\n",
       "      <th>Signal</th>\n",
       "    </tr>\n",
       "    <tr>\n",
       "      <th>date</th>\n",
       "      <th></th>\n",
       "      <th></th>\n",
       "      <th></th>\n",
       "      <th></th>\n",
       "      <th></th>\n",
       "    </tr>\n",
       "  </thead>\n",
       "  <tbody>\n",
       "    <tr>\n",
       "      <th>2018-10-24 12:30:00</th>\n",
       "      <td>15.73</td>\n",
       "      <td>-0.002536</td>\n",
       "      <td>15.740000</td>\n",
       "      <td>16.412389</td>\n",
       "      <td>0</td>\n",
       "    </tr>\n",
       "    <tr>\n",
       "      <th>2018-10-24 12:45:00</th>\n",
       "      <td>15.77</td>\n",
       "      <td>0.002543</td>\n",
       "      <td>15.747143</td>\n",
       "      <td>16.394278</td>\n",
       "      <td>1</td>\n",
       "    </tr>\n",
       "    <tr>\n",
       "      <th>2018-10-24 13:00:00</th>\n",
       "      <td>15.75</td>\n",
       "      <td>-0.001268</td>\n",
       "      <td>15.757143</td>\n",
       "      <td>16.377278</td>\n",
       "      <td>0</td>\n",
       "    </tr>\n",
       "    <tr>\n",
       "      <th>2018-10-24 13:15:00</th>\n",
       "      <td>15.73</td>\n",
       "      <td>-0.001270</td>\n",
       "      <td>15.762143</td>\n",
       "      <td>16.360944</td>\n",
       "      <td>0</td>\n",
       "    </tr>\n",
       "    <tr>\n",
       "      <th>2018-10-24 13:30:00</th>\n",
       "      <td>15.72</td>\n",
       "      <td>-0.000636</td>\n",
       "      <td>15.751429</td>\n",
       "      <td>16.344500</td>\n",
       "      <td>0</td>\n",
       "    </tr>\n",
       "  </tbody>\n",
       "</table>\n",
       "</div>"
      ],
      "text/plain": [
       "                     close  Actual Returns   SMA_Fast   SMA_Slow  Signal\n",
       "date                                                                    \n",
       "2018-10-24 12:30:00  15.73       -0.002536  15.740000  16.412389       0\n",
       "2018-10-24 12:45:00  15.77        0.002543  15.747143  16.394278       1\n",
       "2018-10-24 13:00:00  15.75       -0.001268  15.757143  16.377278       0\n",
       "2018-10-24 13:15:00  15.73       -0.001270  15.762143  16.360944       0\n",
       "2018-10-24 13:30:00  15.72       -0.000636  15.751429  16.344500       0"
      ]
     },
     "metadata": {},
     "output_type": "display_data"
    },
    {
     "data": {
      "text/html": [
       "<div>\n",
       "<style scoped>\n",
       "    .dataframe tbody tr th:only-of-type {\n",
       "        vertical-align: middle;\n",
       "    }\n",
       "\n",
       "    .dataframe tbody tr th {\n",
       "        vertical-align: top;\n",
       "    }\n",
       "\n",
       "    .dataframe thead th {\n",
       "        text-align: right;\n",
       "    }\n",
       "</style>\n",
       "<table border=\"1\" class=\"dataframe\">\n",
       "  <thead>\n",
       "    <tr style=\"text-align: right;\">\n",
       "      <th></th>\n",
       "      <th>close</th>\n",
       "      <th>Actual Returns</th>\n",
       "      <th>SMA_Fast</th>\n",
       "      <th>SMA_Slow</th>\n",
       "      <th>Signal</th>\n",
       "    </tr>\n",
       "    <tr>\n",
       "      <th>date</th>\n",
       "      <th></th>\n",
       "      <th></th>\n",
       "      <th></th>\n",
       "      <th></th>\n",
       "      <th></th>\n",
       "    </tr>\n",
       "  </thead>\n",
       "  <tbody>\n",
       "    <tr>\n",
       "      <th>2020-09-04 14:45:00</th>\n",
       "      <td>6.250</td>\n",
       "      <td>0.003210</td>\n",
       "      <td>6.222857</td>\n",
       "      <td>6.262833</td>\n",
       "      <td>1</td>\n",
       "    </tr>\n",
       "    <tr>\n",
       "      <th>2020-09-04 15:00:00</th>\n",
       "      <td>6.250</td>\n",
       "      <td>0.000000</td>\n",
       "      <td>6.228571</td>\n",
       "      <td>6.261889</td>\n",
       "      <td>1</td>\n",
       "    </tr>\n",
       "    <tr>\n",
       "      <th>2020-09-04 15:15:00</th>\n",
       "      <td>6.275</td>\n",
       "      <td>0.004000</td>\n",
       "      <td>6.240000</td>\n",
       "      <td>6.261167</td>\n",
       "      <td>1</td>\n",
       "    </tr>\n",
       "    <tr>\n",
       "      <th>2020-09-04 15:30:00</th>\n",
       "      <td>6.255</td>\n",
       "      <td>-0.003187</td>\n",
       "      <td>6.242143</td>\n",
       "      <td>6.260444</td>\n",
       "      <td>0</td>\n",
       "    </tr>\n",
       "    <tr>\n",
       "      <th>2020-09-04 15:45:00</th>\n",
       "      <td>6.250</td>\n",
       "      <td>-0.000799</td>\n",
       "      <td>6.247857</td>\n",
       "      <td>6.259556</td>\n",
       "      <td>0</td>\n",
       "    </tr>\n",
       "  </tbody>\n",
       "</table>\n",
       "</div>"
      ],
      "text/plain": [
       "                     close  Actual Returns  SMA_Fast  SMA_Slow  Signal\n",
       "date                                                                  \n",
       "2020-09-04 14:45:00  6.250        0.003210  6.222857  6.262833       1\n",
       "2020-09-04 15:00:00  6.250        0.000000  6.228571  6.261889       1\n",
       "2020-09-04 15:15:00  6.275        0.004000  6.240000  6.261167       1\n",
       "2020-09-04 15:30:00  6.255       -0.003187  6.242143  6.260444       0\n",
       "2020-09-04 15:45:00  6.250       -0.000799  6.247857  6.259556       0"
      ]
     },
     "metadata": {},
     "output_type": "display_data"
    }
   ],
   "source": [
    "# Initialize the new Signal column\n",
    "signals_df['Signal'] = 0\n",
    "\n",
    "# When Actual Returns are greater than or equal to 0, generate signal to buy stock long\n",
    "signals_df.loc[(signals_df['Actual Returns'] >= 0), 'Signal'] = 1\n",
    "\n",
    "# When Actual Returns are less than 0, generate signal to sell stock short\n",
    "signals_df.loc[(signals_df['Actual Returns'] < 0), 'Signal'] = 0\n",
    "\n",
    "# Review the DataFrame\n",
    "display(signals_df.head())\n",
    "display(signals_df.tail())"
   ]
  },
  {
   "cell_type": "code",
   "execution_count": 92,
   "metadata": {},
   "outputs": [],
   "source": [
    "signals_df.reset_index(drop=True, inplace=True)"
   ]
  },
  {
   "cell_type": "code",
   "execution_count": 93,
   "metadata": {},
   "outputs": [
    {
     "data": {
      "text/html": [
       "<div>\n",
       "<style scoped>\n",
       "    .dataframe tbody tr th:only-of-type {\n",
       "        vertical-align: middle;\n",
       "    }\n",
       "\n",
       "    .dataframe tbody tr th {\n",
       "        vertical-align: top;\n",
       "    }\n",
       "\n",
       "    .dataframe thead th {\n",
       "        text-align: right;\n",
       "    }\n",
       "</style>\n",
       "<table border=\"1\" class=\"dataframe\">\n",
       "  <thead>\n",
       "    <tr style=\"text-align: right;\">\n",
       "      <th></th>\n",
       "      <th>close</th>\n",
       "      <th>Actual Returns</th>\n",
       "      <th>SMA_Fast</th>\n",
       "      <th>SMA_Slow</th>\n",
       "      <th>Signal</th>\n",
       "    </tr>\n",
       "  </thead>\n",
       "  <tbody>\n",
       "    <tr>\n",
       "      <th>0</th>\n",
       "      <td>15.730</td>\n",
       "      <td>-0.002536</td>\n",
       "      <td>15.740000</td>\n",
       "      <td>16.412389</td>\n",
       "      <td>0</td>\n",
       "    </tr>\n",
       "    <tr>\n",
       "      <th>1</th>\n",
       "      <td>15.770</td>\n",
       "      <td>0.002543</td>\n",
       "      <td>15.747143</td>\n",
       "      <td>16.394278</td>\n",
       "      <td>1</td>\n",
       "    </tr>\n",
       "    <tr>\n",
       "      <th>2</th>\n",
       "      <td>15.750</td>\n",
       "      <td>-0.001268</td>\n",
       "      <td>15.757143</td>\n",
       "      <td>16.377278</td>\n",
       "      <td>0</td>\n",
       "    </tr>\n",
       "    <tr>\n",
       "      <th>3</th>\n",
       "      <td>15.730</td>\n",
       "      <td>-0.001270</td>\n",
       "      <td>15.762143</td>\n",
       "      <td>16.360944</td>\n",
       "      <td>0</td>\n",
       "    </tr>\n",
       "    <tr>\n",
       "      <th>4</th>\n",
       "      <td>15.720</td>\n",
       "      <td>-0.000636</td>\n",
       "      <td>15.751429</td>\n",
       "      <td>16.344500</td>\n",
       "      <td>0</td>\n",
       "    </tr>\n",
       "    <tr>\n",
       "      <th>...</th>\n",
       "      <td>...</td>\n",
       "      <td>...</td>\n",
       "      <td>...</td>\n",
       "      <td>...</td>\n",
       "      <td>...</td>\n",
       "    </tr>\n",
       "    <tr>\n",
       "      <th>11974</th>\n",
       "      <td>6.250</td>\n",
       "      <td>0.003210</td>\n",
       "      <td>6.222857</td>\n",
       "      <td>6.262833</td>\n",
       "      <td>1</td>\n",
       "    </tr>\n",
       "    <tr>\n",
       "      <th>11975</th>\n",
       "      <td>6.250</td>\n",
       "      <td>0.000000</td>\n",
       "      <td>6.228571</td>\n",
       "      <td>6.261889</td>\n",
       "      <td>1</td>\n",
       "    </tr>\n",
       "    <tr>\n",
       "      <th>11976</th>\n",
       "      <td>6.275</td>\n",
       "      <td>0.004000</td>\n",
       "      <td>6.240000</td>\n",
       "      <td>6.261167</td>\n",
       "      <td>1</td>\n",
       "    </tr>\n",
       "    <tr>\n",
       "      <th>11977</th>\n",
       "      <td>6.255</td>\n",
       "      <td>-0.003187</td>\n",
       "      <td>6.242143</td>\n",
       "      <td>6.260444</td>\n",
       "      <td>0</td>\n",
       "    </tr>\n",
       "    <tr>\n",
       "      <th>11978</th>\n",
       "      <td>6.250</td>\n",
       "      <td>-0.000799</td>\n",
       "      <td>6.247857</td>\n",
       "      <td>6.259556</td>\n",
       "      <td>0</td>\n",
       "    </tr>\n",
       "  </tbody>\n",
       "</table>\n",
       "<p>11979 rows × 5 columns</p>\n",
       "</div>"
      ],
      "text/plain": [
       "        close  Actual Returns   SMA_Fast   SMA_Slow  Signal\n",
       "0      15.730       -0.002536  15.740000  16.412389       0\n",
       "1      15.770        0.002543  15.747143  16.394278       1\n",
       "2      15.750       -0.001268  15.757143  16.377278       0\n",
       "3      15.730       -0.001270  15.762143  16.360944       0\n",
       "4      15.720       -0.000636  15.751429  16.344500       0\n",
       "...       ...             ...        ...        ...     ...\n",
       "11974   6.250        0.003210   6.222857   6.262833       1\n",
       "11975   6.250        0.000000   6.228571   6.261889       1\n",
       "11976   6.275        0.004000   6.240000   6.261167       1\n",
       "11977   6.255       -0.003187   6.242143   6.260444       0\n",
       "11978   6.250       -0.000799   6.247857   6.259556       0\n",
       "\n",
       "[11979 rows x 5 columns]"
      ]
     },
     "execution_count": 93,
     "metadata": {},
     "output_type": "execute_result"
    }
   ],
   "source": [
    "signals_df"
   ]
  },
  {
   "cell_type": "code",
   "execution_count": 94,
   "metadata": {},
   "outputs": [
    {
     "data": {
      "text/plain": [
       "0    0\n",
       "1    1\n",
       "2    0\n",
       "3    0\n",
       "4    0\n",
       "Name: Signal, dtype: int64"
      ]
     },
     "execution_count": 94,
     "metadata": {},
     "output_type": "execute_result"
    }
   ],
   "source": [
    "# Define the target set y using the Signal column\n",
    "y = signals_df[\"Signal\"]\n",
    "\n",
    "# Display a sample of y\n",
    "y[:5]\n"
   ]
  },
  {
   "cell_type": "code",
   "execution_count": 95,
   "metadata": {},
   "outputs": [
    {
     "data": {
      "text/html": [
       "<div>\n",
       "<style scoped>\n",
       "    .dataframe tbody tr th:only-of-type {\n",
       "        vertical-align: middle;\n",
       "    }\n",
       "\n",
       "    .dataframe tbody tr th {\n",
       "        vertical-align: top;\n",
       "    }\n",
       "\n",
       "    .dataframe thead th {\n",
       "        text-align: right;\n",
       "    }\n",
       "</style>\n",
       "<table border=\"1\" class=\"dataframe\">\n",
       "  <thead>\n",
       "    <tr style=\"text-align: right;\">\n",
       "      <th></th>\n",
       "      <th>close</th>\n",
       "      <th>Actual Returns</th>\n",
       "      <th>SMA_Fast</th>\n",
       "      <th>SMA_Slow</th>\n",
       "    </tr>\n",
       "  </thead>\n",
       "  <tbody>\n",
       "    <tr>\n",
       "      <th>0</th>\n",
       "      <td>15.73</td>\n",
       "      <td>-0.002536</td>\n",
       "      <td>15.740000</td>\n",
       "      <td>16.412389</td>\n",
       "    </tr>\n",
       "    <tr>\n",
       "      <th>1</th>\n",
       "      <td>15.77</td>\n",
       "      <td>0.002543</td>\n",
       "      <td>15.747143</td>\n",
       "      <td>16.394278</td>\n",
       "    </tr>\n",
       "    <tr>\n",
       "      <th>2</th>\n",
       "      <td>15.75</td>\n",
       "      <td>-0.001268</td>\n",
       "      <td>15.757143</td>\n",
       "      <td>16.377278</td>\n",
       "    </tr>\n",
       "    <tr>\n",
       "      <th>3</th>\n",
       "      <td>15.73</td>\n",
       "      <td>-0.001270</td>\n",
       "      <td>15.762143</td>\n",
       "      <td>16.360944</td>\n",
       "    </tr>\n",
       "    <tr>\n",
       "      <th>4</th>\n",
       "      <td>15.72</td>\n",
       "      <td>-0.000636</td>\n",
       "      <td>15.751429</td>\n",
       "      <td>16.344500</td>\n",
       "    </tr>\n",
       "  </tbody>\n",
       "</table>\n",
       "</div>"
      ],
      "text/plain": [
       "   close  Actual Returns   SMA_Fast   SMA_Slow\n",
       "0  15.73       -0.002536  15.740000  16.412389\n",
       "1  15.77        0.002543  15.747143  16.394278\n",
       "2  15.75       -0.001268  15.757143  16.377278\n",
       "3  15.73       -0.001270  15.762143  16.360944\n",
       "4  15.72       -0.000636  15.751429  16.344500"
      ]
     },
     "execution_count": 95,
     "metadata": {},
     "output_type": "execute_result"
    }
   ],
   "source": [
    "X = signals_df.drop(columns=[\"Signal\"])\n",
    "\n",
    "X.head()"
   ]
  },
  {
   "cell_type": "code",
   "execution_count": 96,
   "metadata": {},
   "outputs": [],
   "source": [
    "# Split the preprocessed data into a training and testing dataset\n",
    "# Assign the function a random_state equal to 1\n",
    "X_train, X_test, y_train, y_test = train_test_split(X, y, random_state=1)"
   ]
  },
  {
   "cell_type": "code",
   "execution_count": 97,
   "metadata": {},
   "outputs": [],
   "source": [
    "scaler = StandardScaler()\n",
    "\n",
    "X_scaler = scaler.fit(X_train)\n",
    "\n",
    "X_train_scaled = X_scaler.transform(X_train)\n",
    "X_test_scaled = X_scaler.transform(X_test)"
   ]
  },
  {
   "cell_type": "code",
   "execution_count": 98,
   "metadata": {},
   "outputs": [
    {
     "data": {
      "text/plain": [
       "4"
      ]
     },
     "execution_count": 98,
     "metadata": {},
     "output_type": "execute_result"
    }
   ],
   "source": [
    "# Define the the number of inputs (features) to the model\n",
    "number_input_features = len(X_train.iloc[0])\n",
    "\n",
    "# Review the number of features\n",
    "number_input_features"
   ]
  },
  {
   "cell_type": "code",
   "execution_count": 99,
   "metadata": {},
   "outputs": [],
   "source": [
    "# Define the number of neurons in the output layer\n",
    "number_output_neurons = 1"
   ]
  },
  {
   "cell_type": "code",
   "execution_count": 100,
   "metadata": {},
   "outputs": [
    {
     "data": {
      "text/plain": [
       "2"
      ]
     },
     "execution_count": 100,
     "metadata": {},
     "output_type": "execute_result"
    }
   ],
   "source": [
    "# Define the number of hidden nodes for the first hidden layer\n",
    "hidden_nodes_layer1 =  (number_input_features + 1) // 2 \n",
    "\n",
    "# Review the number hidden nodes in the first layer\n",
    "hidden_nodes_layer1"
   ]
  },
  {
   "cell_type": "code",
   "execution_count": 101,
   "metadata": {},
   "outputs": [],
   "source": [
    "# Create the Sequential model instance\n",
    "nn = Sequential()"
   ]
  },
  {
   "cell_type": "code",
   "execution_count": 102,
   "metadata": {},
   "outputs": [],
   "source": [
    "# Add the first hidden layer\n",
    "nn.add(Dense(units=hidden_nodes_layer1, input_dim=number_input_features, activation=\"relu\"))\n"
   ]
  },
  {
   "cell_type": "code",
   "execution_count": 103,
   "metadata": {},
   "outputs": [],
   "source": [
    "# Add the output layer to the model specifying the number of output neurons and activation function\n",
    "nn.add(Dense(1, activation=\"sigmoid\"))\n"
   ]
  },
  {
   "cell_type": "code",
   "execution_count": 104,
   "metadata": {},
   "outputs": [
    {
     "name": "stdout",
     "output_type": "stream",
     "text": [
      "Model: \"sequential_3\"\n",
      "_________________________________________________________________\n",
      "Layer (type)                 Output Shape              Param #   \n",
      "=================================================================\n",
      "dense_9 (Dense)              (None, 2)                 10        \n",
      "_________________________________________________________________\n",
      "dense_10 (Dense)             (None, 1)                 3         \n",
      "=================================================================\n",
      "Total params: 13\n",
      "Trainable params: 13\n",
      "Non-trainable params: 0\n",
      "_________________________________________________________________\n"
     ]
    }
   ],
   "source": [
    "# Display the Sequential model summary\n",
    "nn.summary()\n"
   ]
  },
  {
   "cell_type": "code",
   "execution_count": 105,
   "metadata": {},
   "outputs": [],
   "source": [
    "# Compile the Sequential model\n",
    "\n",
    "nn.compile(loss=\"binary_crossentropy\", optimizer=\"adam\", metrics=[\"accuracy\"])\n"
   ]
  },
  {
   "cell_type": "code",
   "execution_count": 106,
   "metadata": {},
   "outputs": [
    {
     "name": "stdout",
     "output_type": "stream",
     "text": [
      "Epoch 1/50\n",
      "281/281 [==============================] - 1s 892us/step - loss: 0.7608 - accuracy: 0.5124\n",
      "Epoch 2/50\n",
      "281/281 [==============================] - 0s 1ms/step - loss: 0.6277 - accuracy: 0.7362\n",
      "Epoch 3/50\n",
      "281/281 [==============================] - 0s 976us/step - loss: 0.5342 - accuracy: 0.8102\n",
      "Epoch 4/50\n",
      "281/281 [==============================] - 0s 937us/step - loss: 0.4659 - accuracy: 0.8744\n",
      "Epoch 5/50\n",
      "281/281 [==============================] - 0s 992us/step - loss: 0.4094 - accuracy: 0.9127\n",
      "Epoch 6/50\n",
      "281/281 [==============================] - 0s 1ms/step - loss: 0.3617 - accuracy: 0.9338\n",
      "Epoch 7/50\n",
      "281/281 [==============================] - 0s 907us/step - loss: 0.3212 - accuracy: 0.9554\n",
      "Epoch 8/50\n",
      "281/281 [==============================] - 0s 798us/step - loss: 0.2869 - accuracy: 0.9661\n",
      "Epoch 9/50\n",
      "281/281 [==============================] - 0s 842us/step - loss: 0.2575 - accuracy: 0.9735\n",
      "Epoch 10/50\n",
      "281/281 [==============================] - 0s 774us/step - loss: 0.2322 - accuracy: 0.9790\n",
      "Epoch 11/50\n",
      "281/281 [==============================] - 0s 803us/step - loss: 0.2102 - accuracy: 0.9822\n",
      "Epoch 12/50\n",
      "281/281 [==============================] - 0s 819us/step - loss: 0.1909 - accuracy: 0.9871\n",
      "Epoch 13/50\n",
      "281/281 [==============================] - 0s 960us/step - loss: 0.1741 - accuracy: 0.9869\n",
      "Epoch 14/50\n",
      "281/281 [==============================] - 0s 938us/step - loss: 0.1593 - accuracy: 0.9922\n",
      "Epoch 15/50\n",
      "281/281 [==============================] - 0s 1ms/step - loss: 0.1460 - accuracy: 0.9920\n",
      "Epoch 16/50\n",
      "281/281 [==============================] - 0s 1ms/step - loss: 0.1343 - accuracy: 0.9945: 0s - loss: 0.1359 - accuracy: 0.\n",
      "Epoch 17/50\n",
      "281/281 [==============================] - 0s 977us/step - loss: 0.1239 - accuracy: 0.9960\n",
      "Epoch 18/50\n",
      "281/281 [==============================] - 0s 959us/step - loss: 0.1145 - accuracy: 0.9967\n",
      "Epoch 19/50\n",
      "281/281 [==============================] - 0s 747us/step - loss: 0.1060 - accuracy: 0.9978\n",
      "Epoch 20/50\n",
      "281/281 [==============================] - 0s 704us/step - loss: 0.0983 - accuracy: 0.9972\n",
      "Epoch 21/50\n",
      "281/281 [==============================] - 0s 830us/step - loss: 0.0914 - accuracy: 0.9989\n",
      "Epoch 22/50\n",
      "281/281 [==============================] - 0s 775us/step - loss: 0.0850 - accuracy: 0.9983\n",
      "Epoch 23/50\n",
      "281/281 [==============================] - 0s 1ms/step - loss: 0.0792 - accuracy: 0.9993\n",
      "Epoch 24/50\n",
      "281/281 [==============================] - 0s 1ms/step - loss: 0.0738 - accuracy: 0.9993\n",
      "Epoch 25/50\n",
      "281/281 [==============================] - 0s 1ms/step - loss: 0.0689 - accuracy: 0.9998\n",
      "Epoch 26/50\n",
      "281/281 [==============================] - 0s 793us/step - loss: 0.0644 - accuracy: 0.9997\n",
      "Epoch 27/50\n",
      "281/281 [==============================] - 0s 826us/step - loss: 0.0601 - accuracy: 0.9999\n",
      "Epoch 28/50\n",
      "281/281 [==============================] - 0s 750us/step - loss: 0.0562 - accuracy: 0.9999\n",
      "Epoch 29/50\n",
      "281/281 [==============================] - 0s 816us/step - loss: 0.0526 - accuracy: 0.9999\n",
      "Epoch 30/50\n",
      "281/281 [==============================] - 0s 753us/step - loss: 0.0494 - accuracy: 0.9999\n",
      "Epoch 31/50\n",
      "281/281 [==============================] - 0s 733us/step - loss: 0.0463 - accuracy: 1.0000\n",
      "Epoch 32/50\n",
      "281/281 [==============================] - 0s 775us/step - loss: 0.0433 - accuracy: 1.0000\n",
      "Epoch 33/50\n",
      "281/281 [==============================] - 0s 762us/step - loss: 0.0407 - accuracy: 1.0000\n",
      "Epoch 34/50\n",
      "281/281 [==============================] - 0s 985us/step - loss: 0.0381 - accuracy: 1.0000\n",
      "Epoch 35/50\n",
      "281/281 [==============================] - 0s 976us/step - loss: 0.0358 - accuracy: 1.0000\n",
      "Epoch 36/50\n",
      "281/281 [==============================] - 1s 3ms/step - loss: 0.0335 - accuracy: 1.0000\n",
      "Epoch 37/50\n",
      "281/281 [==============================] - 1s 3ms/step - loss: 0.0315 - accuracy: 1.0000\n",
      "Epoch 38/50\n",
      "281/281 [==============================] - 0s 1ms/step - loss: 0.0294 - accuracy: 1.0000\n",
      "Epoch 39/50\n",
      "281/281 [==============================] - 0s 937us/step - loss: 0.0276 - accuracy: 1.0000\n",
      "Epoch 40/50\n",
      "281/281 [==============================] - 0s 2ms/step - loss: 0.0259 - accuracy: 1.0000\n",
      "Epoch 41/50\n",
      "281/281 [==============================] - 1s 4ms/step - loss: 0.0242 - accuracy: 1.0000: 0s - loss: 0.0249 - accu\n",
      "Epoch 42/50\n",
      "281/281 [==============================] - 0s 1ms/step - loss: 0.0227 - accuracy: 1.0000\n",
      "Epoch 43/50\n",
      "281/281 [==============================] - 0s 800us/step - loss: 0.0213 - accuracy: 1.0000\n",
      "Epoch 44/50\n",
      "281/281 [==============================] - 0s 756us/step - loss: 0.0199 - accuracy: 1.0000\n",
      "Epoch 45/50\n",
      "281/281 [==============================] - 0s 860us/step - loss: 0.0187 - accuracy: 1.0000\n",
      "Epoch 46/50\n",
      "281/281 [==============================] - 0s 687us/step - loss: 0.0174 - accuracy: 1.0000\n",
      "Epoch 47/50\n",
      "281/281 [==============================] - 0s 686us/step - loss: 0.0163 - accuracy: 1.0000\n",
      "Epoch 48/50\n",
      "281/281 [==============================] - 0s 639us/step - loss: 0.0153 - accuracy: 1.0000\n",
      "Epoch 49/50\n",
      "281/281 [==============================] - 0s 666us/step - loss: 0.0143 - accuracy: 1.0000\n",
      "Epoch 50/50\n",
      "281/281 [==============================] - 0s 698us/step - loss: 0.0134 - accuracy: 1.0000\n"
     ]
    }
   ],
   "source": [
    "# Fit the model using 50 epochs and the training data\n",
    "\n",
    "fit_model = nn.fit(X_train_scaled, y_train, epochs=50)\n"
   ]
  },
  {
   "cell_type": "code",
   "execution_count": 107,
   "metadata": {},
   "outputs": [
    {
     "name": "stdout",
     "output_type": "stream",
     "text": [
      "94/94 - 0s - loss: 0.0129 - accuracy: 1.0000\n",
      "Loss: 0.012923181988298893, Accuracy: 1.0\n"
     ]
    }
   ],
   "source": [
    "# Evaluate the model loss and accuracy metrics using the evaluate method and the test data\n",
    "model_loss, model_accuracy = nn.evaluate(X_test_scaled,y_test,verbose=2)\n",
    "\n",
    "# Display the model loss and accuracy results\n",
    "\n",
    "print(f\"Loss: {model_loss}, Accuracy: {model_accuracy}\")"
   ]
  },
  {
   "cell_type": "code",
   "execution_count": 84,
   "metadata": {},
   "outputs": [],
   "source": [
    "model_plot = pd.DataFrame(fit_model.history, index=range(1, len(fit_model.history[\"loss\"]) + 1))\n"
   ]
  },
  {
   "cell_type": "code",
   "execution_count": 85,
   "metadata": {
    "scrolled": true
   },
   "outputs": [
    {
     "data": {
      "text/plain": [
       "<AxesSubplot:>"
      ]
     },
     "execution_count": 85,
     "metadata": {},
     "output_type": "execute_result"
    },
    {
     "data": {
      "image/png": "[encoded data removed]",
      "text/plain": [
       "<Figure size 432x288 with 1 Axes>"
      ]
     },
     "metadata": {
      "needs_background": "light"
     },
     "output_type": "display_data"
    }
   ],
   "source": [
    "model_plot.plot(y=\"loss\")"
   ]
  },
  {
   "cell_type": "code",
   "execution_count": 86,
   "metadata": {},
   "outputs": [
    {
     "data": {
      "text/plain": [
       "<AxesSubplot:>"
      ]
     },
     "execution_count": 86,
     "metadata": {},
     "output_type": "execute_result"
    },
    {
     "data": {
      "image/png": "[encoded data removed]",
      "text/plain": [
       "<Figure size 432x288 with 1 Axes>"
      ]
     },
     "metadata": {
      "needs_background": "light"
     },
     "output_type": "display_data"
    }
   ],
   "source": [
    "model_plot.plot(y=\"accuracy\")"
   ]
  },
  {
   "cell_type": "code",
   "execution_count": null,
   "metadata": {},
   "outputs": [],
   "source": []
  }
 ],
 "metadata": {
  "colab": {
   "collapsed_sections": [],
   "name": "fntc.ipynb",
   "provenance": []
  },
  "kernelspec": {
   "display_name": "Python 3",
   "language": "python",
   "name": "python3"
  },
  "language_info": {
   "codemirror_mode": {
    "name": "ipython",
    "version": 3
   },
   "file_extension": ".py",
   "mimetype": "text/x-python",
   "name": "python",
   "nbconvert_exporter": "python",
   "pygments_lexer": "ipython3",
   "version": "3.7.10"
  }
 },
 "nbformat": 4,
 "nbformat_minor": 1
}
